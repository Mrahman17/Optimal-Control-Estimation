{
 "cells": [
  {
   "cell_type": "markdown",
   "metadata": {},
   "source": [
    "## Project 1\n",
    "## Elevator System Simulation and Analysis\n",
    "### This project is intended to introduce some of the tools in Python for use in the analysis of dynamical systems. \n",
    "                                    \n",
    "         \n",
    "   #### Submitted By: Mahbub Rahman\n",
    "            "
   ]
  },
  {
   "cell_type": "code",
   "execution_count": 339,
   "metadata": {},
   "outputs": [],
   "source": [
    "import numpy as np\n",
    "import sympy as sp\n",
    "from sympy import *\n",
    "import scipy\n",
    "from scipy import signal\n",
    "from scipy.integrate import odeint\n",
    "%matplotlib inline\n",
    "import matplotlib.pyplot as plt\n",
    "import math\n",
    "from scipy.interpolate import interp1d"
   ]
  },
  {
   "cell_type": "markdown",
   "metadata": {},
   "source": [
    "## Define the constants"
   ]
  },
  {
   "cell_type": "code",
   "execution_count": 340,
   "metadata": {},
   "outputs": [],
   "source": [
    "I_m = 700.0 # Nm, momentum of inertia\n",
    "k = 100.0 # Nm/A, motor characteristic\n",
    "L = 0.4 # H, inductance of the motor\n",
    "m = 500.0 # kg\n",
    "g = 9.81 # m/s^2\n",
    "W = 300.0 # x g N\n",
    "r_0 = 3.0 # m\n",
    "delta_c = 0.05 # m, radial increase due to a full rotationn, i.e. 𝜔 = 2𝜋, of the disk\n",
    "R_0 = 5.0 # ohm\n",
    "delta_R = 5.0 # ohm, resistance varies with time as the motor heats up\n",
    "tao_R = 3.0 # s\n",
    "tspan = np.linspace(0,3,301)\n"
   ]
  },
  {
   "cell_type": "markdown",
   "metadata": {},
   "source": [
    "## Input V(t)"
   ]
  },
  {
   "cell_type": "code",
   "execution_count": 341,
   "metadata": {},
   "outputs": [
    {
     "data": {
      "image/png": "[encoded data removed]",
      "text/plain": [
       "<Figure size 432x288 with 1 Axes>"
      ]
     },
     "metadata": {
      "needs_background": "light"
     },
     "output_type": "display_data"
    }
   ],
   "source": [
    "c = 5\n",
    "input_array = np.zeros((len(tspan)))\n",
    "input_array[:len(input_array)//2] += c+10\n",
    "input_array[len(input_array)//2:len(input_array)-10] -= c-10\n",
    "plt.plot(tspan,input_array)\n",
    "plt.title('Doublet input with c:'+str(c))\n",
    "plt.ylabel('Voltage (V)')\n",
    "plt.xlabel('Time (s)')\n",
    "\n",
    "v= interp1d(tspan,input_array,fill_value=\"extrapolate\")"
   ]
  },
  {
   "cell_type": "markdown",
   "metadata": {},
   "source": [
    "## Find the state vectors"
   ]
  },
  {
   "cell_type": "code",
   "execution_count": 342,
   "metadata": {},
   "outputs": [],
   "source": [
    "def find_states(x,t,v):\n",
    "    x_dot = x[1]\n",
    "    i_t = x[2]\n",
    "    r_t = r_0+x[3]   \n",
    "    dx    = np.zeros((len(x)))\n",
    "\n",
    "    dx[0] = x_dot\n",
    "    dx[1] = np.array(1/(m*r_t-I_m/r_t)) * np.array(W*r_t - m*g*r_t + k*i_t - I_m*delta_c*x_dot**2/(2*np.pi*r_t**3)) \n",
    "    dx[2] = 1/L*v(t) - np.array(R_0+delta_R*(1-math.exp(-t/tao_R)))/L*np.array(i_t) - k*x_dot/(L*r_t)\n",
    "    dx[3] = delta_c/(2*np.pi*r_t)*x_dot\n",
    "    return dx"
   ]
  },
  {
   "cell_type": "markdown",
   "metadata": {},
   "source": [
    "## Find the output vectors"
   ]
  },
  {
   "cell_type": "code",
   "execution_count": 343,
   "metadata": {},
   "outputs": [],
   "source": [
    "def find_op(dx,t):\n",
    "    op = dx\n",
    "    return op"
   ]
  },
  {
   "cell_type": "code",
   "execution_count": null,
   "metadata": {},
   "outputs": [],
   "source": []
  },
  {
   "cell_type": "code",
   "execution_count": null,
   "metadata": {},
   "outputs": [],
   "source": []
  },
  {
   "cell_type": "markdown",
   "metadata": {},
   "source": [
    "## Equilibrium Points Computaiton @ x_bar = 0,15,30"
   ]
  },
  {
   "cell_type": "code",
   "execution_count": 344,
   "metadata": {},
   "outputs": [],
   "source": [
    "def equi_states(x_bar):\n",
    "    \n",
    "    r_bar=(delta_c*x_bar/np.pi+r_0**2)**0.5\n",
    "    v_bar=(m*g-W)*(R_0+delta_R)/k * r_bar\n",
    "    i_bar= 1/(R_0+delta_R) * v_bar\n",
    "    rbar=(k/(m*g-W))*i_bar\n",
    "    xdot_bar=0\n",
    "    return xdot_bar,rbar,i_bar\n"
   ]
  },
  {
   "cell_type": "code",
   "execution_count": 345,
   "metadata": {},
   "outputs": [
    {
     "name": "stdout",
     "output_type": "stream",
     "text": [
      "[15, 0, 139.97027918566158, 3.039528321078427]\n"
     ]
    }
   ],
   "source": [
    "x_bar=15 # Set trim point at x=0,15,30\n",
    "xdot_bar,r_bar,i_bar=equi_states(x_bar)\n",
    "x_eq= [x_bar,xdot_bar,i_bar,r_bar]\n",
    "print(x_eq)"
   ]
  },
  {
   "cell_type": "markdown",
   "metadata": {},
   "source": [
    "## Compute the states with equilibriam points as the initial states"
   ]
  },
  {
   "cell_type": "code",
   "execution_count": 346,
   "metadata": {},
   "outputs": [],
   "source": [
    "stats_vec = odeint(find_states, x_eq, tspan, args=(v,))\n",
    "Op_y = find_op(stats_vec[:,0:2], tspan)"
   ]
  },
  {
   "cell_type": "code",
   "execution_count": 347,
   "metadata": {},
   "outputs": [
    {
     "data": {
      "text/plain": [
       "Text(0.5, 0, 'Time (s)')"
      ]
     },
     "execution_count": 347,
     "metadata": {},
     "output_type": "execute_result"
    },
    {
     "data": {
      "image/png": "[encoded data removed]",
      "text/plain": [
       "<Figure size 432x288 with 1 Axes>"
      ]
     },
     "metadata": {
      "needs_background": "light"
     },
     "output_type": "display_data"
    }
   ],
   "source": [
    "plt.plot(tspan,stats_vec)\n",
    "plt.title('Nonlinear systems states')\n",
    "plt.xlabel('Time (s)')"
   ]
  },
  {
   "cell_type": "code",
   "execution_count": 348,
   "metadata": {},
   "outputs": [
    {
     "data": {
      "text/plain": [
       "Text(0.5, 0, 'Time (s)')"
      ]
     },
     "execution_count": 348,
     "metadata": {},
     "output_type": "execute_result"
    },
    {
     "data": {
      "image/png": "[encoded data removed]",
      "text/plain": [
       "<Figure size 432x288 with 1 Axes>"
      ]
     },
     "metadata": {
      "needs_background": "light"
     },
     "output_type": "display_data"
    }
   ],
   "source": [
    "plt.plot(tspan,Op_y)\n",
    "plt.title(' Output of the Nonlinear systems')\n",
    "plt.xlabel('Time (s)')"
   ]
  },
  {
   "cell_type": "markdown",
   "metadata": {},
   "source": [
    "## Q2. Jacobian Linearization"
   ]
  },
  {
   "cell_type": "code",
   "execution_count": 349,
   "metadata": {},
   "outputs": [
    {
     "data": {
      "text/latex": [
       "$\\displaystyle \\left[\\begin{matrix}x_{dot}\\\\\\frac{100.0 i_{t} - 4605.0 r_{t} - \\frac{17.5 x_{dot}^{2}}{\\pi r_{t}^{3}}}{500.0 r_{t} - \\frac{700.0}{r_{t}}}\\\\- 25.0 i_{t} + 2.5 u - \\frac{250.0 x_{dot}}{r_{t}}\\\\\\frac{0.025 x_{dot}}{\\pi r_{t}}\\end{matrix}\\right]$"
      ],
      "text/plain": [
       "Matrix([\n",
       "[                                                                       x_dot],\n",
       "[(100.0*i_t - 4605.0*r_t - 17.5*x_dot**2/(pi*r_t**3))/(500.0*r_t - 700.0/r_t)],\n",
       "[                                         -25.0*i_t + 2.5*u - 250.0*x_dot/r_t],\n",
       "[                                                        0.025*x_dot/(pi*r_t)]])"
      ]
     },
     "execution_count": 349,
     "metadata": {},
     "output_type": "execute_result"
    }
   ],
   "source": [
    "x, u, x_dot, i_t, r_t = sp.symbols(['x','u','x_dot','i_t','r_t'])\n",
    "J = Matrix([[x_dot], \n",
    "            [1/(m*r_t - I_m/r_t) * (W*r_t - m*g*r_t + k*i_t - (I_m*delta_c*x_dot**2)/(2*pi*r_t**3))],\n",
    "            [1/L*u - (R_0+delta_R)/L*i_t - k*x_dot/(L*r_t)],\n",
    "            [delta_c/(2*pi*r_t)*x_dot]])\n",
    "J"
   ]
  },
  {
   "cell_type": "code",
   "execution_count": 350,
   "metadata": {},
   "outputs": [
    {
     "data": {
      "text/latex": [
       "$\\displaystyle \\left[\\begin{matrix}0 & 1 & 0 & 0\\\\0 & - \\frac{35.0 x_{dot}}{\\pi r_{t}^{3} \\left(500.0 r_{t} - \\frac{700.0}{r_{t}}\\right)} & \\frac{100.0}{500.0 r_{t} - \\frac{700.0}{r_{t}}} & \\frac{-4605.0 + \\frac{52.5 x_{dot}^{2}}{\\pi r_{t}^{4}}}{500.0 r_{t} - \\frac{700.0}{r_{t}}} + \\frac{\\left(-500.0 - \\frac{700.0}{r_{t}^{2}}\\right) \\left(100.0 i_{t} - 4605.0 r_{t} - \\frac{17.5 x_{dot}^{2}}{\\pi r_{t}^{3}}\\right)}{\\left(500.0 r_{t} - \\frac{700.0}{r_{t}}\\right)^{2}}\\\\0 & - \\frac{250.0}{r_{t}} & -25.0 & \\frac{250.0 x_{dot}}{r_{t}^{2}}\\\\0 & \\frac{0.025}{\\pi r_{t}} & 0 & - \\frac{0.025 x_{dot}}{\\pi r_{t}^{2}}\\end{matrix}\\right]$"
      ],
      "text/plain": [
       "Matrix([\n",
       "[0,                                               1,                             0,                                                                                                                                                                       0],\n",
       "[0, -35.0*x_dot/(pi*r_t**3*(500.0*r_t - 700.0/r_t)), 100.0/(500.0*r_t - 700.0/r_t), (-4605.0 + 52.5*x_dot**2/(pi*r_t**4))/(500.0*r_t - 700.0/r_t) + (-500.0 - 700.0/r_t**2)*(100.0*i_t - 4605.0*r_t - 17.5*x_dot**2/(pi*r_t**3))/(500.0*r_t - 700.0/r_t)**2],\n",
       "[0,                                      -250.0/r_t,                         -25.0,                                                                                                                                                      250.0*x_dot/r_t**2],\n",
       "[0,                                  0.025/(pi*r_t),                             0,                                                                                                                                                -0.025*x_dot/(pi*r_t**2)]])"
      ]
     },
     "execution_count": 350,
     "metadata": {},
     "output_type": "execute_result"
    }
   ],
   "source": [
    "A = J.jacobian([[x], [x_dot], [i_t], [r_t]])\n",
    "A.subs(x_dot,0)\n",
    "A\n"
   ]
  },
  {
   "cell_type": "code",
   "execution_count": 351,
   "metadata": {},
   "outputs": [
    {
     "data": {
      "text/latex": [
       "$\\displaystyle \\left[\\begin{matrix}0\\\\0\\\\2.5\\\\0\\end{matrix}\\right]$"
      ],
      "text/plain": [
       "Matrix([\n",
       "[  0],\n",
       "[  0],\n",
       "[2.5],\n",
       "[  0]])"
      ]
     },
     "execution_count": 351,
     "metadata": {},
     "output_type": "execute_result"
    }
   ],
   "source": [
    "B = J.jacobian(['u'])\n",
    "B"
   ]
  },
  {
   "cell_type": "code",
   "execution_count": 352,
   "metadata": {},
   "outputs": [
    {
     "data": {
      "text/plain": [
       "array([[1, 0, 0, 0],\n",
       "       [0, 1, 0, 0]])"
      ]
     },
     "execution_count": 352,
     "metadata": {},
     "output_type": "execute_result"
    }
   ],
   "source": [
    "C = np.array([[1,0,0,0],[0,1,0,0]])\n",
    "C"
   ]
  },
  {
   "cell_type": "code",
   "execution_count": 353,
   "metadata": {},
   "outputs": [
    {
     "data": {
      "text/plain": [
       "array([[0.],\n",
       "       [0.]])"
      ]
     },
     "execution_count": 353,
     "metadata": {},
     "output_type": "execute_result"
    }
   ],
   "source": [
    "D = np.zeros((2,1))\n",
    "D"
   ]
  },
  {
   "cell_type": "code",
   "execution_count": 354,
   "metadata": {},
   "outputs": [],
   "source": [
    "def subs_equi(x0):\n",
    "    A2 = A.subs([(x,x0[0]),(x_dot,x0[1]),(i_t,x0[2]),(r_t,x0[3]),(sp.pi,np.pi)])\n",
    "    return np.array(A2)"
   ]
  },
  {
   "cell_type": "code",
   "execution_count": 355,
   "metadata": {},
   "outputs": [
    {
     "data": {
      "text/plain": [
       "array([[0, 1, 0, 0],\n",
       "       [0, 0, 0.0775515264534988, -3.57124779318362],\n",
       "       [0, -82.2496037514465, -25.0000000000000, 0],\n",
       "       [0, 0.00261808620087848, 0, 0]], dtype=object)"
      ]
     },
     "execution_count": 355,
     "metadata": {},
     "output_type": "execute_result"
    }
   ],
   "source": [
    "A_equi = subs_equi(x_eq)\n",
    "A_equi"
   ]
  },
  {
   "cell_type": "code",
   "execution_count": 356,
   "metadata": {},
   "outputs": [
    {
     "data": {
      "text/plain": [
       "StateSpaceContinuous(\n",
       "array([[0, 1, 0, 0],\n",
       "       [0, 0, 0.0775515264534988, -3.57124779318362],\n",
       "       [0, -82.2496037514465, -25.0000000000000, 0],\n",
       "       [0, 0.00261808620087848, 0, 0]], dtype=object),\n",
       "array([[0],\n",
       "       [0],\n",
       "       [2.50000000000000],\n",
       "       [0]], dtype=object),\n",
       "array([[1, 0, 0, 0],\n",
       "       [0, 1, 0, 0]]),\n",
       "array([[0.],\n",
       "       [0.]]),\n",
       "dt: None\n",
       ")"
      ]
     },
     "execution_count": 356,
     "metadata": {},
     "output_type": "execute_result"
    }
   ],
   "source": [
    "lin_sys = scipy.signal.StateSpace(A_equi,B,C,D)\n",
    "lin_sys"
   ]
  },
  {
   "cell_type": "code",
   "execution_count": 357,
   "metadata": {},
   "outputs": [],
   "source": [
    "tt,yout,x_out = scipy.signal.lsim(lin_sys, input_array, tspan, X0=x_eq, interp=1)"
   ]
  },
  {
   "cell_type": "code",
   "execution_count": 358,
   "metadata": {},
   "outputs": [
    {
     "data": {
      "text/plain": [
       "Text(0.5, 0, 'Time (s)')"
      ]
     },
     "execution_count": 358,
     "metadata": {},
     "output_type": "execute_result"
    },
    {
     "data": {
      "image/png": "[encoded data removed]",
      "text/plain": [
       "<Figure size 432x288 with 1 Axes>"
      ]
     },
     "metadata": {
      "needs_background": "light"
     },
     "output_type": "display_data"
    }
   ],
   "source": [
    "plt.plot(tt,x_out)\n",
    "plt.title('Linearized states')\n",
    "plt.xlabel('Time (s)')"
   ]
  },
  {
   "cell_type": "markdown",
   "metadata": {},
   "source": [
    "## Stability"
   ]
  },
  {
   "cell_type": "code",
   "execution_count": 359,
   "metadata": {},
   "outputs": [
    {
     "data": {
      "text/plain": [
       "(array([  0.        , -24.74220222,  -0.21356099,  -0.0442368 ]),\n",
       " array([[ 1.00000000e+00, -1.26679073e-04,  8.03784081e-01,\n",
       "          9.88588199e-01],\n",
       "        [ 0.00000000e+00,  3.13431924e-03, -1.71656923e-01,\n",
       "         -4.37319742e-02],\n",
       "        [ 0.00000000e+00, -9.99995080e-01,  5.69614452e-01,\n",
       "          1.44132540e-01],\n",
       "        [ 0.00000000e+00, -3.31656733e-07,  2.10437601e-03,\n",
       "          2.58820912e-03]]))"
      ]
     },
     "execution_count": 359,
     "metadata": {},
     "output_type": "execute_result"
    }
   ],
   "source": [
    "EigA= np.linalg.eig(A_equi.astype(float))\n",
    "EigA"
   ]
  },
  {
   "cell_type": "markdown",
   "metadata": {},
   "source": [
    "### First eignvalue is 0, this means it's not possible to determine whether this system is stable or not. "
   ]
  },
  {
   "cell_type": "code",
   "execution_count": null,
   "metadata": {},
   "outputs": [],
   "source": []
  },
  {
   "cell_type": "markdown",
   "metadata": {},
   "source": [
    "## Controlability"
   ]
  },
  {
   "cell_type": "code",
   "execution_count": 360,
   "metadata": {},
   "outputs": [
    {
     "data": {
      "text/plain": [
       "3"
      ]
     },
     "execution_count": 360,
     "metadata": {},
     "output_type": "execute_result"
    }
   ],
   "source": [
    "import control\n",
    "from control import ctrb,obsv\n",
    "ctrb_mat=ctrb(A_equi.astype(float), B)\n",
    "rnk=np.linalg.matrix_rank(ctrb_mat)\n",
    "rnk"
   ]
  },
  {
   "cell_type": "markdown",
   "metadata": {},
   "source": [
    "### The rank of the matrix is less than 4, there are dependent columns. So the system is not controlable\n"
   ]
  },
  {
   "cell_type": "markdown",
   "metadata": {},
   "source": [
    "\n",
    "\n",
    "## Observability"
   ]
  },
  {
   "cell_type": "code",
   "execution_count": 361,
   "metadata": {},
   "outputs": [
    {
     "data": {
      "text/plain": [
       "4"
      ]
     },
     "execution_count": 361,
     "metadata": {},
     "output_type": "execute_result"
    }
   ],
   "source": [
    "obsv_mat=obsv(A_equi.astype(float), C)\n",
    "rnk_obs=np.linalg.matrix_rank(obsv_mat)\n",
    "rnk_obs"
   ]
  },
  {
   "cell_type": "markdown",
   "metadata": {},
   "source": [
    "### It's full Rank, so the system is observable, i.e., we can estiamte states from output"
   ]
  },
  {
   "cell_type": "code",
   "execution_count": null,
   "metadata": {},
   "outputs": [],
   "source": []
  },
  {
   "cell_type": "markdown",
   "metadata": {},
   "source": [
    "\n",
    "\n",
    "\n",
    "## Q3. Nonlinear system with Initial Condition closer and far from the equilibrium point\n",
    "\n",
    "\n",
    "#### Closer to the equilibrium point"
   ]
  },
  {
   "cell_type": "code",
   "execution_count": 364,
   "metadata": {},
   "outputs": [
    {
     "data": {
      "text/plain": [
       "[65, 50, 189.97027918566158, 53.03952832107843]"
      ]
     },
     "execution_count": 364,
     "metadata": {},
     "output_type": "execute_result"
    }
   ],
   "source": [
    "close_offset=50\n",
    "x_close_eq = [x_add + close_offset for x_add in x_eq]\n",
    "x_close_eq"
   ]
  },
  {
   "cell_type": "code",
   "execution_count": 365,
   "metadata": {},
   "outputs": [
    {
     "data": {
      "text/plain": [
       "Text(0.5, 0, 'Time (s)')"
      ]
     },
     "execution_count": 365,
     "metadata": {},
     "output_type": "execute_result"
    },
    {
     "data": {
      "image/png": "[encoded data removed]",
      "text/plain": [
       "<Figure size 432x288 with 1 Axes>"
      ]
     },
     "metadata": {
      "needs_background": "light"
     },
     "output_type": "display_data"
    }
   ],
   "source": [
    "stats_vec2 = odeint(find_states, x_close_eq, tspan, args=(v,))\n",
    "Op_y2 = find_op(stats_vec2[:,0:2], tspan)\n",
    "\n",
    "plt.plot(tspan,stats_vec2)\n",
    "plt.title('Nonlinear systems states closer to the equilibrium')\n",
    "plt.xlabel('Time (s)')"
   ]
  },
  {
   "cell_type": "markdown",
   "metadata": {},
   "source": [
    "#### Far from the equilibrium"
   ]
  },
  {
   "cell_type": "code",
   "execution_count": 366,
   "metadata": {},
   "outputs": [
    {
     "data": {
      "text/plain": [
       "[195, 180, 319.9702791856616, 183.03952832107842]"
      ]
     },
     "execution_count": 366,
     "metadata": {},
     "output_type": "execute_result"
    }
   ],
   "source": [
    "far_offset=180\n",
    "x_far_eq = [x_add + far_offset for x_add in x_eq]\n",
    "x_far_eq\n"
   ]
  },
  {
   "cell_type": "code",
   "execution_count": 367,
   "metadata": {},
   "outputs": [
    {
     "data": {
      "text/plain": [
       "Text(0.5, 0, 'Time (s)')"
      ]
     },
     "execution_count": 367,
     "metadata": {},
     "output_type": "execute_result"
    },
    {
     "data": {
      "image/png": "[encoded data removed]",
      "text/plain": [
       "<Figure size 432x288 with 1 Axes>"
      ]
     },
     "metadata": {
      "needs_background": "light"
     },
     "output_type": "display_data"
    }
   ],
   "source": [
    "stats_vec3 = odeint(find_states, x_far_eq, tspan, args=(v,))\n",
    "Op_y3 = find_op(stats_vec3[:,0:2], tspan)\n",
    "\n",
    "plt.plot(tspan,stats_vec3)\n",
    "plt.title('Nonlinear systems states far from the equilibrium')\n",
    "plt.xlabel('Time (s)')"
   ]
  },
  {
   "cell_type": "markdown",
   "metadata": {},
   "source": [
    "## Q4. linearized system with Initial Condition closer and far from the equilibrium point\n",
    "\n",
    "\n",
    "\n",
    "#### closer to the equilibrium"
   ]
  },
  {
   "cell_type": "code",
   "execution_count": 368,
   "metadata": {},
   "outputs": [
    {
     "data": {
      "text/plain": [
       "Text(0.5, 0, 'Time (s)')"
      ]
     },
     "execution_count": 368,
     "metadata": {},
     "output_type": "execute_result"
    },
    {
     "data": {
      "image/png": "[encoded data removed]",
      "text/plain": [
       "<Figure size 432x288 with 1 Axes>"
      ]
     },
     "metadata": {
      "needs_background": "light"
     },
     "output_type": "display_data"
    }
   ],
   "source": [
    "A_closer_equi = subs_equi(x_close_eq)\n",
    "lin_sys = scipy.signal.StateSpace(A_closer_equi,B,C,D)\n",
    "tt,yout_closer,x_out_closer = scipy.signal.lsim(lin_sys, input_array, tspan, X0=x_close_eq, interp=1)\n",
    "plt.plot(tt,x_out_closer)\n",
    "plt.title('Linearized states with closer equilibrium point')\n",
    "plt.xlabel('Time (s)')\n"
   ]
  },
  {
   "cell_type": "markdown",
   "metadata": {},
   "source": [
    "\n",
    "\n",
    "\n",
    "#### Far from the equilibrium points"
   ]
  },
  {
   "cell_type": "code",
   "execution_count": 369,
   "metadata": {},
   "outputs": [
    {
     "data": {
      "text/plain": [
       "Text(0.5, 0, 'Time (s)')"
      ]
     },
     "execution_count": 369,
     "metadata": {},
     "output_type": "execute_result"
    },
    {
     "data": {
      "image/png": "[encoded data removed]",
      "text/plain": [
       "<Figure size 432x288 with 1 Axes>"
      ]
     },
     "metadata": {
      "needs_background": "light"
     },
     "output_type": "display_data"
    }
   ],
   "source": [
    "A_far_equi = subs_equi(x_far_eq)\n",
    "lin_sys = scipy.signal.StateSpace(A_far_equi,B,C,D)\n",
    "tt,yout_far,x_out_far = scipy.signal.lsim(lin_sys, input_array, tspan, X0=x_far_eq, interp=1)\n",
    "plt.plot(tt,x_out_far)\n",
    "plt.title('Linearized states with far equilibrium point')\n",
    "plt.xlabel('Time (s)')"
   ]
  },
  {
   "cell_type": "code",
   "execution_count": null,
   "metadata": {},
   "outputs": [],
   "source": []
  },
  {
   "cell_type": "markdown",
   "metadata": {},
   "source": [
    "\n",
    "\n",
    "\n",
    "\n",
    "## Q5. Compare Nonlinear with Linearized system @ x=15"
   ]
  },
  {
   "cell_type": "code",
   "execution_count": 338,
   "metadata": {},
   "outputs": [
    {
     "data": {
      "text/plain": [
       "Text(0.5, 1.0, ' compare Nonlinear and Linearized states @ trim point x=15')"
      ]
     },
     "execution_count": 338,
     "metadata": {},
     "output_type": "execute_result"
    },
    {
     "data": {
      "image/png": "[encoded data removed]",
      "text/plain": [
       "<Figure size 432x288 with 1 Axes>"
      ]
     },
     "metadata": {
      "needs_background": "light"
     },
     "output_type": "display_data"
    }
   ],
   "source": [
    "plt.plot(tspan,stats_vec,'--b',label='Nonlinear')\n",
    "plt.plot(tt,x_out,'r',label='Linear')\n",
    "plt.legend(loc=\"upper right\")\n",
    "plt.title(' compare Nonlinear and Linearized states @ trim point x=15')\n"
   ]
  },
  {
   "cell_type": "markdown",
   "metadata": {},
   "source": [
    "#### This project is all about simulating Elevator as an electromechanical systems which  can be described by the nonlinear \n",
    "#### dynamical system as stated by the equaiton 23. It takes single input voltage v(t) as input with 4 states, \n",
    "#### namely x, x_dot,i,r and 2 output x, x_dot.  This system is simulated for a trim condition of x= 0,15 and 30 to find \n",
    "#### the equilibrium states and outputs. The input is a dublet function with 3 sec duration. \n",
    "#### Later on, the system is linearized by calculating jacobian to find A and B matrices at the equilibrium point.\n",
    "#### Once the system is linearized around the equilibrium point, system's stability, controlability and observablity\n",
    "#### has been analyzed and we found that this system is not stable, nor controlable. However, this system is observable.\n",
    "#### Furthermore, the simulaiton is extended in Q3 and Q4 to find the states of the nonlinear and linearized systems at a point \n",
    "#### closer and far from the equilibrium point. Those results are presented in the respective sections.\n",
    "#### Finally, the nonlinear and linearized states were compared in Q5 and we can see that the they agree with each other.\n"
   ]
  },
  {
   "cell_type": "code",
   "execution_count": null,
   "metadata": {},
   "outputs": [],
   "source": []
  }
 ],
 "metadata": {
  "kernelspec": {
   "display_name": "Python 3",
   "language": "python",
   "name": "python3"
  },
  "language_info": {
   "codemirror_mode": {
    "name": "ipython",
    "version": 3
   },
   "file_extension": ".py",
   "mimetype": "text/x-python",
   "name": "python",
   "nbconvert_exporter": "python",
   "pygments_lexer": "ipython3",
   "version": "3.7.3"
  }
 },
 "nbformat": 4,
 "nbformat_minor": 5
}
